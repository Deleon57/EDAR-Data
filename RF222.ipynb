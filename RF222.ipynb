{
  "nbformat": 4,
  "nbformat_minor": 0,
  "metadata": {
    "colab": {
      "provenance": [],
      "authorship_tag": "ABX9TyMakng1QrbXEhqwwGur3mQq",
      "include_colab_link": true
    },
    "kernelspec": {
      "name": "python3",
      "display_name": "Python 3"
    },
    "language_info": {
      "name": "python"
    }
  },
  "cells": [
    {
      "cell_type": "markdown",
      "metadata": {
        "id": "view-in-github",
        "colab_type": "text"
      },
      "source": [
        "<a href=\"https://colab.research.google.com/github/Deleon57/EDAR-Data/blob/main/RF222.ipynb\" target=\"_parent\"><img src=\"https://colab.research.google.com/assets/colab-badge.svg\" alt=\"Open In Colab\"/></a>"
      ]
    },
    {
      "cell_type": "code",
      "source": [
        "\n",
        "import yfinance as yf\n",
        "import pandas as pd\n",
        "import numpy as np\n",
        "import itertools\n",
        "import matplotlib.pyplot as plt\n",
        "import seaborn as sns\n",
        "\n",
        "from sklearn.ensemble import RandomForestClassifier\n",
        "from sklearn.metrics import accuracy_score, confusion_matrix\n",
        "from sklearn.model_selection import train_test_split\n"
      ],
      "metadata": {
        "id": "GmyT0nztx3FP"
      },
      "execution_count": null,
      "outputs": []
    },
    {
      "cell_type": "code",
      "source": [
        "# Example: Gold Fields (GFI.JO) – replace ticker if needed\n",
        "ticker = \"GFI.JO\"\n",
        "data = yf.download(ticker, start=\"2013-01-01\", end=\"2024-12-31\")\n",
        "\n",
        "# Reset index to keep Date\n",
        "data.reset_index(inplace=True)\n"
      ],
      "metadata": {
        "colab": {
          "base_uri": "https://localhost:8080/"
        },
        "id": "xYPSGP7Rx49V",
        "outputId": "d3f01267-59a6-485e-bf3c-3fb07d4cc53f"
      },
      "execution_count": null,
      "outputs": [
        {
          "output_type": "stream",
          "name": "stderr",
          "text": [
            "/tmp/ipython-input-3940022676.py:3: FutureWarning: YF.download() has changed argument auto_adjust default to True\n",
            "  data = yf.download(ticker, start=\"2013-01-01\", end=\"2024-12-31\")\n",
            "[*********************100%***********************]  1 of 1 completed\n"
          ]
        }
      ]
    },
    {
      "cell_type": "code",
      "source": [
        "df = data.copy()\n",
        "\n",
        "# 1. Spreads\n",
        "df['High_Low'] = df['High'] - df['Low']\n",
        "df['Open_Close'] = df['Open'] - df['Close']\n",
        "\n",
        "# 2. Moving Averages\n",
        "df['SMA_5'] = df['Close'].rolling(5).mean()\n",
        "df['SMA_10'] = df['Close'].rolling(10).mean()\n",
        "df['SMA_20'] = df['Close'].rolling(20).mean()\n",
        "df['SMA_50'] = df['Close'].rolling(50).mean()\n",
        "df['SMA_100'] = df['Close'].rolling(100).mean()\n",
        "df['SMA_200'] = df['Close'].rolling(200).mean()\n",
        "\n",
        "# 3. Exponential Moving Averages\n",
        "df['EMA_5'] = df['Close'].ewm(span=5, adjust=False).mean()\n",
        "df['EMA_20'] = df['Close'].ewm(span=20, adjust=False).mean()\n",
        "df['EMA_50'] = df['Close'].ewm(span=50, adjust=False).mean()\n",
        "\n",
        "# 4. Rolling Std (Volatility)\n",
        "df['RollingStd_20'] = df['Close'].rolling(20).std()\n",
        "\n",
        "# 5. Lag Features (Close & Volume)\n",
        "for lag in range(1, 6):\n",
        "    df[f'Close_t-{lag}'] = df['Close'].shift(lag)\n",
        "    df[f'Volume_t-{lag}'] = df['Volume'].shift(lag)\n",
        "    df[f'Return_t-{lag}'] = df['Close'].pct_change(lag)\n",
        "\n",
        "# 6. Relative Strength Index (RSI)\n",
        "#window_length = 14\n",
        "#delta = df['Close'].diff()\n",
        "#gain = (delta.where(delta > 0, 0)).rolling(window=window_length).mean()\n",
        "#loss = (-delta.where(delta < 0, 0)).rolling(window=window_length).mean()\n",
        "#rs = gain / loss\n",
        "#df['RSI_14'] = 100 - (100 / (1 + rs))\n",
        "\n",
        "# 7. On-Balance Volume (OBV)\n",
        "#df['OBV'] = (np.sign(df['Close'].diff()) * df['Volume']).fillna(0).cumsum()\n",
        "\n",
        "# 8. Moving Average Convergence Divergence (MACD)\n",
        "#df['EMA_12'] = df['Close'].ewm(span=12, adjust=False).mean()\n",
        "#df['EMA_26'] = df['Close'].ewm(span=26, adjust=False).mean()\n",
        "#df['MACD'] = df['EMA_12'] - df['EMA_26']\n",
        "#df['Signal_Line'] = df['MACD'].ewm(span=9, adjust=False).mean()\n",
        "\n",
        "# 9. Bollinger Bands (20-day)\n",
        "#df['BB_Middle'] = df['Close'].rolling(window=20).mean()\n",
        "\n",
        "# 10. Average True Range (ATR)\n",
        "#df['H-L'] = df['High'] - df['Low']\n",
        "#df['H-C'] = abs(df['High'] - df['Close'].shift())\n",
        "#df['L-C'] = abs(df['Low'] - df['Close'].shift())\n",
        "#df['TR'] = df[['H-L', 'H-C', 'L-C']].max(axis=1)\n",
        "#df['ATR_14'] = df['TR'].rolling(14).mean()\n",
        "\n",
        "# Drop NA rows\n",
        "df.dropna(inplace=True)\n",
        "\n",
        "# Target: 1 if next-day close > today’s close, else 0\n",
        "df['Target'] = (df['Close'].shift(-1) > df['Close']).astype(int)\n",
        "\n",
        "df.dropna(inplace=True)\n"
      ],
      "metadata": {
        "id": "1Buj9dPXx9ce"
      },
      "execution_count": null,
      "outputs": []
    },
    {
      "cell_type": "code",
      "source": [
        "train = df[df['Date'] < \"2024-01-01\"]\n",
        "test = df[df['Date'] >= \"2024-01-01\"]\n",
        "\n",
        "feature_pool = [\n",
        "    'Open', 'High', 'Low', 'Close', 'Volume',\n",
        "    'SMA_5','SMA_10','SMA_20','SMA_50','SMA_100','SMA_200',\n",
        "    'EMA_5','EMA_20','EMA_50',\n",
        "    'RollingStd_20','High_Low','Open_Close',\n",
        "    'Close_t-1','Close_t-2','Close_t-3','Close_t-4','Close_t-5',\n",
        "    'Volume_t-1','Volume_t-2','Volume_t-3','Volume_t-4','Volume_t-5',\n",
        "    'Return_t-1','Return_t-2','Return_t-3','Return_t-4','Return_t-5'\n",
        "]\n",
        "\n",
        "\n",
        "    #'RSI_14',\n",
        "    #'OBV','EMA_12','EMA_26','MACD','Signal_Line','BB_Middle',\n",
        "    #'H-L','H-C','L-C','TR','ATR_14'\n",
        "X_train_full = train[feature_pool]\n",
        "y_train = train['Target']\n",
        "X_test_full = test[feature_pool]\n",
        "y_test = test['Target']\n"
      ],
      "metadata": {
        "id": "S-6jRdFfx_1K"
      },
      "execution_count": null,
      "outputs": []
    },
    {
      "cell_type": "code",
      "source": [
        " import random\n",
        "\n",
        "best_score = 0\n",
        "best_features = None\n",
        "best_model = None\n",
        "\n",
        "# Try 500 random feature subsets\n",
        "for _ in range(100):\n",
        "    r = random.randint(2, 5)   # choose number of features\n",
        "    combo = random.sample(feature_pool, r)  # random subset\n",
        "\n",
        "    X_train = X_train_full[list(combo)]\n",
        "    X_test = X_test_full[list(combo)]\n",
        "\n",
        "    model = RandomForestClassifier(n_estimators=100, random_state=42, n_jobs=-1)\n",
        "    model.fit(X_train, y_train)\n",
        "\n",
        "    preds = model.predict(X_test)\n",
        "    acc = accuracy_score(y_test, preds)\n",
        "\n",
        "    if acc > best_score:\n",
        "        best_score = acc\n",
        "        best_features = combo\n",
        "        best_model = model\n",
        "\n",
        "print(\"Best Accuracy:\", best_score)\n",
        "print(\"Best Feature Set:\", best_features)\n"
      ],
      "metadata": {
        "colab": {
          "base_uri": "https://localhost:8080/"
        },
        "id": "IVsa27xQyELl",
        "outputId": "31a3fcca-e8e0-4f44-b437-215c7faa14cf"
      },
      "execution_count": null,
      "outputs": [
        {
          "output_type": "stream",
          "name": "stdout",
          "text": [
            "Best Accuracy: 0.5662650602409639\n",
            "Best Feature Set: ['Return_t-1', 'Close_t-1', 'EMA_5', 'Open_Close']\n"
          ]
        }
      ]
    },
    {
      "cell_type": "code",
      "source": [
        "# Predict with best model\n",
        "X_test_best = X_test_full[list(best_features)]\n",
        "y_pred = best_model.predict(X_test_best)\n",
        "\n",
        "cm = confusion_matrix(y_test, y_pred)\n",
        "\n",
        "plt.figure(figsize=(6,4))\n",
        "sns.heatmap(cm, annot=True, fmt=\"d\", cmap=\"Blues\",\n",
        "            xticklabels=[\"Down\",\"Up\"], yticklabels=[\"Down\",\"Up\"])\n",
        "plt.title(f\"Confusion Matrix (Accuracy: {best_score:.2%})\")\n",
        "plt.ylabel(\"Actual\")\n",
        "plt.xlabel(\"Predicted\")\n",
        "plt.show()\n"
      ],
      "metadata": {
        "colab": {
          "base_uri": "https://localhost:8080/",
          "height": 410
        },
        "id": "0u1upTXn3Okq",
        "outputId": "fb03999a-3d55-4528-ae22-1ccac90f3615"
      },
      "execution_count": null,
      "outputs": [
        {
          "output_type": "display_data",
          "data": {
            "text/plain": [
              "<Figure size 600x400 with 2 Axes>"
            ],
            "image/png": "[encoded data removed]"
          },
          "metadata": {}
        }
      ]
    }
  ]
}