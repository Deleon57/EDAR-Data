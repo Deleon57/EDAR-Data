{
  "nbformat": 4,
  "nbformat_minor": 0,
  "metadata": {
    "colab": {
      "provenance": [],
      "authorship_tag": "ABX9TyNlJu8ICgGQEf5ll646/Txs",
      "include_colab_link": true
    },
    "kernelspec": {
      "name": "python3",
      "display_name": "Python 3"
    },
    "language_info": {
      "name": "python"
    }
  },
  "cells": [
    {
      "cell_type": "markdown",
      "metadata": {
        "id": "view-in-github",
        "colab_type": "text"
      },
      "source": [
        "<a href=\"https://colab.research.google.com/github/Deleon57/EDAR-Data/blob/main/NEW_KNN(GFI).ipynb\" target=\"_parent\"><img src=\"https://colab.research.google.com/assets/colab-badge.svg\" alt=\"Open In Colab\"/></a>"
      ]
    },
    {
      "cell_type": "markdown",
      "source": [
        "# basic KNN"
      ],
      "metadata": {
        "id": "YU8ujtZ4AKpy"
      }
    },
    {
      "cell_type": "code",
      "source": [
        "import yfinance as yf\n",
        "import pandas as pd\n",
        "import numpy as np\n",
        "from sklearn.model_selection import train_test_split\n",
        "from sklearn.preprocessing import StandardScaler\n",
        "from sklearn.neighbors import KNeighborsClassifier\n",
        "from sklearn.metrics import classification_report, confusion_matrix, accuracy_score\n",
        "import matplotlib.pyplot as plt\n",
        "import seaborn as sns\n"
      ],
      "metadata": {
        "id": "kUqA3-T_AILd"
      },
      "execution_count": 105,
      "outputs": []
    },
    {
      "cell_type": "code",
      "source": [
        "# Download 10 years of Gold Fields stock data\n",
        "ticker = \"GFI.JO\"\n",
        "data = yf.download(ticker, start=\"2013-01-01\", end=\"2024-12-31\")\n",
        "\n",
        "# Keep required features (including Volume)\n",
        "df = data[['Close', 'High', 'Low', 'Open', 'Volume']].copy()\n",
        "\n",
        "# Create target variable: 1 if next day's close > today's close, else 0\n",
        "df['Target'] = (df['Close'].shift(-1) > df['Close']).astype(int)\n",
        "\n",
        "# Drop last row (since it has no next day target)\n",
        "df = df.dropna()\n",
        "\n",
        "df.tail()\n"
      ],
      "metadata": {
        "id": "8y41L5WYBpfn",
        "outputId": "6200387b-41ed-457d-eed9-f3ae347f1e98",
        "colab": {
          "base_uri": "https://localhost:8080/",
          "height": 321
        }
      },
      "execution_count": 106,
      "outputs": [
        {
          "output_type": "stream",
          "name": "stderr",
          "text": [
            "/tmp/ipython-input-670492372.py:3: FutureWarning: YF.download() has changed argument auto_adjust default to True\n",
            "  data = yf.download(ticker, start=\"2013-01-01\", end=\"2024-12-31\")\n",
            "[*********************100%***********************]  1 of 1 completed\n"
          ]
        },
        {
          "output_type": "execute_result",
          "data": {
            "text/plain": [
              "Price              Close          High           Low          Open   Volume  \\\n",
              "Ticker            GFI.JO        GFI.JO        GFI.JO        GFI.JO   GFI.JO   \n",
              "Date                                                                          \n",
              "2024-12-20  25710.158203  25726.155191  24762.336699  25351.225798  5006397   \n",
              "2024-12-23  24765.335938  25806.139923  24680.351943  25310.233317  1293370   \n",
              "2024-12-24  25406.214844  25571.183773  24765.335551  25085.275291   334453   \n",
              "2024-12-27  25074.277344  25918.118409  24735.341181  25105.271506   817916   \n",
              "2024-12-30  24805.328125  25098.272951  24517.382357  24827.323982  1012028   \n",
              "\n",
              "Price      Target  \n",
              "Ticker             \n",
              "Date               \n",
              "2024-12-20      0  \n",
              "2024-12-23      1  \n",
              "2024-12-24      0  \n",
              "2024-12-27      0  \n",
              "2024-12-30      0  "
            ],
            "text/html": [
              "\n",
              "  <div id=\"df-92738926-32d7-4f2c-8d36-7e5a6a5f55f1\" class=\"colab-df-container\">\n",
              "    <div>\n",
              "<style scoped>\n",
              "    .dataframe tbody tr th:only-of-type {\n",
              "        vertical-align: middle;\n",
              "    }\n",
              "\n",
              "    .dataframe tbody tr th {\n",
              "        vertical-align: top;\n",
              "    }\n",
              "\n",
              "    .dataframe thead tr th {\n",
              "        text-align: left;\n",
              "    }\n",
              "\n",
              "    .dataframe thead tr:last-of-type th {\n",
              "        text-align: right;\n",
              "    }\n",
              "</style>\n",
              "<table border=\"1\" class=\"dataframe\">\n",
              "  <thead>\n",
              "    <tr>\n",
              "      <th>Price</th>\n",
              "      <th>Close</th>\n",
              "      <th>High</th>\n",
              "      <th>Low</th>\n",
              "      <th>Open</th>\n",
              "      <th>Volume</th>\n",
              "      <th>Target</th>\n",
              "    </tr>\n",
              "    <tr>\n",
              "      <th>Ticker</th>\n",
              "      <th>GFI.JO</th>\n",
              "      <th>GFI.JO</th>\n",
              "      <th>GFI.JO</th>\n",
              "      <th>GFI.JO</th>\n",
              "      <th>GFI.JO</th>\n",
              "      <th></th>\n",
              "    </tr>\n",
              "    <tr>\n",
              "      <th>Date</th>\n",
              "      <th></th>\n",
              "      <th></th>\n",
              "      <th></th>\n",
              "      <th></th>\n",
              "      <th></th>\n",
              "      <th></th>\n",
              "    </tr>\n",
              "  </thead>\n",
              "  <tbody>\n",
              "    <tr>\n",
              "      <th>2024-12-20</th>\n",
              "      <td>25710.158203</td>\n",
              "      <td>25726.155191</td>\n",
              "      <td>24762.336699</td>\n",
              "      <td>25351.225798</td>\n",
              "      <td>5006397</td>\n",
              "      <td>0</td>\n",
              "    </tr>\n",
              "    <tr>\n",
              "      <th>2024-12-23</th>\n",
              "      <td>24765.335938</td>\n",
              "      <td>25806.139923</td>\n",
              "      <td>24680.351943</td>\n",
              "      <td>25310.233317</td>\n",
              "      <td>1293370</td>\n",
              "      <td>1</td>\n",
              "    </tr>\n",
              "    <tr>\n",
              "      <th>2024-12-24</th>\n",
              "      <td>25406.214844</td>\n",
              "      <td>25571.183773</td>\n",
              "      <td>24765.335551</td>\n",
              "      <td>25085.275291</td>\n",
              "      <td>334453</td>\n",
              "      <td>0</td>\n",
              "    </tr>\n",
              "    <tr>\n",
              "      <th>2024-12-27</th>\n",
              "      <td>25074.277344</td>\n",
              "      <td>25918.118409</td>\n",
              "      <td>24735.341181</td>\n",
              "      <td>25105.271506</td>\n",
              "      <td>817916</td>\n",
              "      <td>0</td>\n",
              "    </tr>\n",
              "    <tr>\n",
              "      <th>2024-12-30</th>\n",
              "      <td>24805.328125</td>\n",
              "      <td>25098.272951</td>\n",
              "      <td>24517.382357</td>\n",
              "      <td>24827.323982</td>\n",
              "      <td>1012028</td>\n",
              "      <td>0</td>\n",
              "    </tr>\n",
              "  </tbody>\n",
              "</table>\n",
              "</div>\n",
              "    <div class=\"colab-df-buttons\">\n",
              "\n",
              "  <div class=\"colab-df-container\">\n",
              "    <button class=\"colab-df-convert\" onclick=\"convertToInteractive('df-92738926-32d7-4f2c-8d36-7e5a6a5f55f1')\"\n",
              "            title=\"Convert this dataframe to an interactive table.\"\n",
              "            style=\"display:none;\">\n",
              "\n",
              "  <svg xmlns=\"http://www.w3.org/2000/svg\" height=\"24px\" viewBox=\"0 -960 960 960\">\n",
              "    <path d=\"M120-120v-720h720v720H120Zm60-500h600v-160H180v160Zm220 220h160v-160H400v160Zm0 220h160v-160H400v160ZM180-400h160v-160H180v160Zm440 0h160v-160H620v160ZM180-180h160v-160H180v160Zm440 0h160v-160H620v160Z\"/>\n",
              "  </svg>\n",
              "    </button>\n",
              "\n",
              "  <style>\n",
              "    .colab-df-container {\n",
              "      display:flex;\n",
              "      gap: 12px;\n",
              "    }\n",
              "\n",
              "    .colab-df-convert {\n",
              "      background-color: #E8F0FE;\n",
              "      border: none;\n",
              "      border-radius: 50%;\n",
              "      cursor: pointer;\n",
              "      display: none;\n",
              "      fill: #1967D2;\n",
              "      height: 32px;\n",
              "      padding: 0 0 0 0;\n",
              "      width: 32px;\n",
              "    }\n",
              "\n",
              "    .colab-df-convert:hover {\n",
              "      background-color: #E2EBFA;\n",
              "      box-shadow: 0px 1px 2px rgba(60, 64, 67, 0.3), 0px 1px 3px 1px rgba(60, 64, 67, 0.15);\n",
              "      fill: #174EA6;\n",
              "    }\n",
              "\n",
              "    .colab-df-buttons div {\n",
              "      margin-bottom: 4px;\n",
              "    }\n",
              "\n",
              "    [theme=dark] .colab-df-convert {\n",
              "      background-color: #3B4455;\n",
              "      fill: #D2E3FC;\n",
              "    }\n",
              "\n",
              "    [theme=dark] .colab-df-convert:hover {\n",
              "      background-color: #434B5C;\n",
              "      box-shadow: 0px 1px 3px 1px rgba(0, 0, 0, 0.15);\n",
              "      filter: drop-shadow(0px 1px 2px rgba(0, 0, 0, 0.3));\n",
              "      fill: #FFFFFF;\n",
              "    }\n",
              "  </style>\n",
              "\n",
              "    <script>\n",
              "      const buttonEl =\n",
              "        document.querySelector('#df-92738926-32d7-4f2c-8d36-7e5a6a5f55f1 button.colab-df-convert');\n",
              "      buttonEl.style.display =\n",
              "        google.colab.kernel.accessAllowed ? 'block' : 'none';\n",
              "\n",
              "      async function convertToInteractive(key) {\n",
              "        const element = document.querySelector('#df-92738926-32d7-4f2c-8d36-7e5a6a5f55f1');\n",
              "        const dataTable =\n",
              "          await google.colab.kernel.invokeFunction('convertToInteractive',\n",
              "                                                    [key], {});\n",
              "        if (!dataTable) return;\n",
              "\n",
              "        const docLinkHtml = 'Like what you see? Visit the ' +\n",
              "          '<a target=\"_blank\" href=https://colab.research.google.com/notebooks/data_table.ipynb>data table notebook</a>'\n",
              "          + ' to learn more about interactive tables.';\n",
              "        element.innerHTML = '';\n",
              "        dataTable['output_type'] = 'display_data';\n",
              "        await google.colab.output.renderOutput(dataTable, element);\n",
              "        const docLink = document.createElement('div');\n",
              "        docLink.innerHTML = docLinkHtml;\n",
              "        element.appendChild(docLink);\n",
              "      }\n",
              "    </script>\n",
              "  </div>\n",
              "\n",
              "\n",
              "    <div id=\"df-81e2b87a-18e6-4b9d-8f8b-e2b2137a61a4\">\n",
              "      <button class=\"colab-df-quickchart\" onclick=\"quickchart('df-81e2b87a-18e6-4b9d-8f8b-e2b2137a61a4')\"\n",
              "                title=\"Suggest charts\"\n",
              "                style=\"display:none;\">\n",
              "\n",
              "<svg xmlns=\"http://www.w3.org/2000/svg\" height=\"24px\"viewBox=\"0 0 24 24\"\n",
              "     width=\"24px\">\n",
              "    <g>\n",
              "        <path d=\"M19 3H5c-1.1 0-2 .9-2 2v14c0 1.1.9 2 2 2h14c1.1 0 2-.9 2-2V5c0-1.1-.9-2-2-2zM9 17H7v-7h2v7zm4 0h-2V7h2v10zm4 0h-2v-4h2v4z\"/>\n",
              "    </g>\n",
              "</svg>\n",
              "      </button>\n",
              "\n",
              "<style>\n",
              "  .colab-df-quickchart {\n",
              "      --bg-color: #E8F0FE;\n",
              "      --fill-color: #1967D2;\n",
              "      --hover-bg-color: #E2EBFA;\n",
              "      --hover-fill-color: #174EA6;\n",
              "      --disabled-fill-color: #AAA;\n",
              "      --disabled-bg-color: #DDD;\n",
              "  }\n",
              "\n",
              "  [theme=dark] .colab-df-quickchart {\n",
              "      --bg-color: #3B4455;\n",
              "      --fill-color: #D2E3FC;\n",
              "      --hover-bg-color: #434B5C;\n",
              "      --hover-fill-color: #FFFFFF;\n",
              "      --disabled-bg-color: #3B4455;\n",
              "      --disabled-fill-color: #666;\n",
              "  }\n",
              "\n",
              "  .colab-df-quickchart {\n",
              "    background-color: var(--bg-color);\n",
              "    border: none;\n",
              "    border-radius: 50%;\n",
              "    cursor: pointer;\n",
              "    display: none;\n",
              "    fill: var(--fill-color);\n",
              "    height: 32px;\n",
              "    padding: 0;\n",
              "    width: 32px;\n",
              "  }\n",
              "\n",
              "  .colab-df-quickchart:hover {\n",
              "    background-color: var(--hover-bg-color);\n",
              "    box-shadow: 0 1px 2px rgba(60, 64, 67, 0.3), 0 1px 3px 1px rgba(60, 64, 67, 0.15);\n",
              "    fill: var(--button-hover-fill-color);\n",
              "  }\n",
              "\n",
              "  .colab-df-quickchart-complete:disabled,\n",
              "  .colab-df-quickchart-complete:disabled:hover {\n",
              "    background-color: var(--disabled-bg-color);\n",
              "    fill: var(--disabled-fill-color);\n",
              "    box-shadow: none;\n",
              "  }\n",
              "\n",
              "  .colab-df-spinner {\n",
              "    border: 2px solid var(--fill-color);\n",
              "    border-color: transparent;\n",
              "    border-bottom-color: var(--fill-color);\n",
              "    animation:\n",
              "      spin 1s steps(1) infinite;\n",
              "  }\n",
              "\n",
              "  @keyframes spin {\n",
              "    0% {\n",
              "      border-color: transparent;\n",
              "      border-bottom-color: var(--fill-color);\n",
              "      border-left-color: var(--fill-color);\n",
              "    }\n",
              "    20% {\n",
              "      border-color: transparent;\n",
              "      border-left-color: var(--fill-color);\n",
              "      border-top-color: var(--fill-color);\n",
              "    }\n",
              "    30% {\n",
              "      border-color: transparent;\n",
              "      border-left-color: var(--fill-color);\n",
              "      border-top-color: var(--fill-color);\n",
              "      border-right-color: var(--fill-color);\n",
              "    }\n",
              "    40% {\n",
              "      border-color: transparent;\n",
              "      border-right-color: var(--fill-color);\n",
              "      border-top-color: var(--fill-color);\n",
              "    }\n",
              "    60% {\n",
              "      border-color: transparent;\n",
              "      border-right-color: var(--fill-color);\n",
              "    }\n",
              "    80% {\n",
              "      border-color: transparent;\n",
              "      border-right-color: var(--fill-color);\n",
              "      border-bottom-color: var(--fill-color);\n",
              "    }\n",
              "    90% {\n",
              "      border-color: transparent;\n",
              "      border-bottom-color: var(--fill-color);\n",
              "    }\n",
              "  }\n",
              "</style>\n",
              "\n",
              "      <script>\n",
              "        async function quickchart(key) {\n",
              "          const quickchartButtonEl =\n",
              "            document.querySelector('#' + key + ' button');\n",
              "          quickchartButtonEl.disabled = true;  // To prevent multiple clicks.\n",
              "          quickchartButtonEl.classList.add('colab-df-spinner');\n",
              "          try {\n",
              "            const charts = await google.colab.kernel.invokeFunction(\n",
              "                'suggestCharts', [key], {});\n",
              "          } catch (error) {\n",
              "            console.error('Error during call to suggestCharts:', error);\n",
              "          }\n",
              "          quickchartButtonEl.classList.remove('colab-df-spinner');\n",
              "          quickchartButtonEl.classList.add('colab-df-quickchart-complete');\n",
              "        }\n",
              "        (() => {\n",
              "          let quickchartButtonEl =\n",
              "            document.querySelector('#df-81e2b87a-18e6-4b9d-8f8b-e2b2137a61a4 button');\n",
              "          quickchartButtonEl.style.display =\n",
              "            google.colab.kernel.accessAllowed ? 'block' : 'none';\n",
              "        })();\n",
              "      </script>\n",
              "    </div>\n",
              "\n",
              "    </div>\n",
              "  </div>\n"
            ],
            "application/vnd.google.colaboratory.intrinsic+json": {
              "type": "dataframe",
              "summary": "{\n  \"name\": \"df\",\n  \"rows\": 5,\n  \"fields\": [\n    {\n      \"column\": [\n        \"Date\",\n        \"\"\n      ],\n      \"properties\": {\n        \"dtype\": \"date\",\n        \"min\": \"2024-12-20 00:00:00\",\n        \"max\": \"2024-12-30 00:00:00\",\n        \"num_unique_values\": 5,\n        \"samples\": [\n          \"2024-12-23 00:00:00\",\n          \"2024-12-30 00:00:00\",\n          \"2024-12-24 00:00:00\"\n        ],\n        \"semantic_type\": \"\",\n        \"description\": \"\"\n      }\n    },\n    {\n      \"column\": [\n        \"Close\",\n        \"GFI.JO\"\n      ],\n      \"properties\": {\n        \"dtype\": \"number\",\n        \"std\": 403.70060638446444,\n        \"min\": 24765.3359375,\n        \"max\": 25710.158203125,\n        \"num_unique_values\": 5,\n        \"samples\": [\n          24765.3359375,\n          24805.328125,\n          25406.21484375\n        ],\n        \"semantic_type\": \"\",\n        \"description\": \"\"\n      }\n    },\n    {\n      \"column\": [\n        \"High\",\n        \"GFI.JO\"\n      ],\n      \"properties\": {\n        \"dtype\": \"number\",\n        \"std\": 319.88074073835276,\n        \"min\": 25098.27295130492,\n        \"max\": 25918.11840910847,\n        \"num_unique_values\": 5,\n        \"samples\": [\n          25806.139922600425,\n          25098.27295130492,\n          25571.183772529614\n        ],\n        \"semantic_type\": \"\",\n        \"description\": \"\"\n      }\n    },\n    {\n      \"column\": [\n        \"Low\",\n        \"GFI.JO\"\n      ],\n      \"properties\": {\n        \"dtype\": \"number\",\n        \"std\": 103.47789479087312,\n        \"min\": 24517.38235716445,\n        \"max\": 24765.33555073344,\n        \"num_unique_values\": 5,\n        \"samples\": [\n          24680.351942559042,\n          24517.38235716445,\n          24765.33555073344\n        ],\n        \"semantic_type\": \"\",\n        \"description\": \"\"\n      }\n    },\n    {\n      \"column\": [\n        \"Open\",\n        \"GFI.JO\"\n      ],\n      \"properties\": {\n        \"dtype\": \"number\",\n        \"std\": 209.45012734646153,\n        \"min\": 24827.323982265218,\n        \"max\": 25351.22579811151,\n        \"num_unique_values\": 5,\n        \"samples\": [\n          25310.23331682731,\n          24827.323982265218,\n          25085.275291396934\n        ],\n        \"semantic_type\": \"\",\n        \"description\": \"\"\n      }\n    },\n    {\n      \"column\": [\n        \"Volume\",\n        \"GFI.JO\"\n      ],\n      \"properties\": {\n        \"dtype\": \"number\",\n        \"std\": 1885036,\n        \"min\": 334453,\n        \"max\": 5006397,\n        \"num_unique_values\": 5,\n        \"samples\": [\n          1293370,\n          1012028,\n          334453\n        ],\n        \"semantic_type\": \"\",\n        \"description\": \"\"\n      }\n    },\n    {\n      \"column\": [\n        \"Target\",\n        \"\"\n      ],\n      \"properties\": {\n        \"dtype\": \"number\",\n        \"std\": 0,\n        \"min\": 0,\n        \"max\": 1,\n        \"num_unique_values\": 2,\n        \"samples\": [\n          1,\n          0\n        ],\n        \"semantic_type\": \"\",\n        \"description\": \"\"\n      }\n    }\n  ]\n}"
            }
          },
          "metadata": {},
          "execution_count": 106
        }
      ]
    },
    {
      "cell_type": "code",
      "source": [
        "# Train on all years except 2024, test only on 2024\n",
        "train_df = df[df.index.year < 2024]\n",
        "test_df = df[df.index.year == 2024]\n",
        "\n",
        "X_train = train_df[['Close', 'High', 'Low', 'Open']]\n",
        "y_train = train_df['Target']\n",
        "\n",
        "X_test = test_df[['Close', 'High', 'Low', 'Open']]\n",
        "y_test = test_df['Target']\n"
      ],
      "metadata": {
        "id": "JGG8jwq_APEs"
      },
      "execution_count": 107,
      "outputs": []
    },
    {
      "cell_type": "code",
      "source": [
        "scaler = StandardScaler()\n",
        "X_train_scaled = scaler.fit_transform(X_train)\n",
        "X_test_scaled = scaler.transform(X_test)\n"
      ],
      "metadata": {
        "id": "a4T5kT6_ARDg"
      },
      "execution_count": 108,
      "outputs": []
    },
    {
      "cell_type": "code",
      "source": [
        "from sklearn.metrics import accuracy_score\n",
        "\n",
        "best_k = 1\n",
        "best_acc = 0\n",
        "\n",
        "for k in range(1, 21):  # check k = 1 to 20\n",
        "    knn = KNeighborsClassifier(n_neighbors=k)\n",
        "    knn.fit(X_train_scaled, y_train)\n",
        "    y_pred_k = knn.predict(X_test_scaled)\n",
        "    acc = accuracy_score(y_test, y_pred_k)\n",
        "\n",
        "    print(f\"k = {k}, Accuracy = {acc:.4f}\")\n",
        "\n",
        "    if acc > best_acc:\n",
        "        best_acc = acc\n",
        "        best_k = k\n",
        "\n",
        "print(\"\\nBest k is:\", best_k, \"with Accuracy:\", round(best_acc, 4))\n"
      ],
      "metadata": {
        "id": "cVZ45__kAcaw",
        "outputId": "77497e1b-dbc3-4aa1-a592-a57a07384bae",
        "colab": {
          "base_uri": "https://localhost:8080/"
        }
      },
      "execution_count": 109,
      "outputs": [
        {
          "output_type": "stream",
          "name": "stdout",
          "text": [
            "k = 1, Accuracy = 0.5422\n",
            "k = 2, Accuracy = 0.5020\n",
            "k = 3, Accuracy = 0.5221\n",
            "k = 4, Accuracy = 0.4819\n",
            "k = 5, Accuracy = 0.4900\n",
            "k = 6, Accuracy = 0.4819\n",
            "k = 7, Accuracy = 0.4819\n",
            "k = 8, Accuracy = 0.4739\n",
            "k = 9, Accuracy = 0.4739\n",
            "k = 10, Accuracy = 0.4859\n",
            "k = 11, Accuracy = 0.5382\n",
            "k = 12, Accuracy = 0.5060\n",
            "k = 13, Accuracy = 0.5060\n",
            "k = 14, Accuracy = 0.4940\n",
            "k = 15, Accuracy = 0.4940\n",
            "k = 16, Accuracy = 0.4940\n",
            "k = 17, Accuracy = 0.5221\n",
            "k = 18, Accuracy = 0.4980\n",
            "k = 19, Accuracy = 0.5181\n",
            "k = 20, Accuracy = 0.4940\n",
            "\n",
            "Best k is: 1 with Accuracy: 0.5422\n"
          ]
        }
      ]
    },
    {
      "cell_type": "code",
      "source": [
        "# Start with K=5 (default)\n",
        "knn = KNeighborsClassifier(n_neighbors=1)\n",
        "knn.fit(X_train_scaled, y_train)\n",
        "\n",
        "# Predictions\n",
        "y_pred = knn.predict(X_test_scaled)\n",
        "\n",
        "# Evaluation\n",
        "print(\"Accuracy Score:\", accuracy_score(y_test, y_pred))\n",
        "print(\"\\nClassification Report:\\n\", classification_report(y_test, y_pred))\n"
      ],
      "metadata": {
        "id": "B6hLWwDFATi0",
        "outputId": "e9c03f3b-31a0-4566-9c3d-696b791c5080",
        "colab": {
          "base_uri": "https://localhost:8080/"
        }
      },
      "execution_count": 110,
      "outputs": [
        {
          "output_type": "stream",
          "name": "stdout",
          "text": [
            "Accuracy Score: 0.5421686746987951\n",
            "\n",
            "Classification Report:\n",
            "               precision    recall  f1-score   support\n",
            "\n",
            "           0       0.50      0.66      0.57       115\n",
            "           1       0.60      0.44      0.51       134\n",
            "\n",
            "    accuracy                           0.54       249\n",
            "   macro avg       0.55      0.55      0.54       249\n",
            "weighted avg       0.56      0.54      0.54       249\n",
            "\n"
          ]
        }
      ]
    },
    {
      "cell_type": "code",
      "source": [
        "from sklearn.metrics import classification_report, confusion_matrix, accuracy_score\n",
        "\n",
        "# Confusion matrix\n",
        "cm = confusion_matrix(y_test, y_pred)\n",
        "\n",
        "plt.figure(figsize=(6,4))\n",
        "sns.heatmap(cm, annot=True, fmt='d', cmap='Blues',\n",
        "            xticklabels=['Predicted Down', 'Predicted Up'],\n",
        "            yticklabels=['Actual Down', 'Actual Up'])\n",
        "plt.xlabel(\"Predicted\")\n",
        "plt.ylabel(\"Actual\")\n",
        "plt.title(\"Confusion Matrix (KNN)\")\n",
        "plt.show()\n",
        "\n",
        "# Print precision, recall, F1, and accuracy\n",
        "print(\"Accuracy Score:\", accuracy_score(y_test, y_pred))\n",
        "print(\"\\nClassification Report:\\n\")\n",
        "print(classification_report(y_test, y_pred, target_names=['Down', 'Up']))\n"
      ],
      "metadata": {
        "id": "3TTBhX0DAx94",
        "outputId": "a91d406d-5f79-4bb7-fb4e-29258050810a",
        "colab": {
          "base_uri": "https://localhost:8080/",
          "height": 636
        }
      },
      "execution_count": 111,
      "outputs": [
        {
          "output_type": "display_data",
          "data": {
            "text/plain": [
              "<Figure size 600x400 with 2 Axes>"
            ],
            "image/png": "[encoded data removed]"
          },
          "metadata": {}
        },
        {
          "output_type": "stream",
          "name": "stdout",
          "text": [
            "Accuracy Score: 0.5421686746987951\n",
            "\n",
            "Classification Report:\n",
            "\n",
            "              precision    recall  f1-score   support\n",
            "\n",
            "        Down       0.50      0.66      0.57       115\n",
            "          Up       0.60      0.44      0.51       134\n",
            "\n",
            "    accuracy                           0.54       249\n",
            "   macro avg       0.55      0.55      0.54       249\n",
            "weighted avg       0.56      0.54      0.54       249\n",
            "\n"
          ]
        }
      ]
    },
    {
      "cell_type": "markdown",
      "source": [
        "# Adding features"
      ],
      "metadata": {
        "id": "VKpcvk_YA0Lt"
      }
    },
    {
      "cell_type": "code",
      "source": [
        "import pandas as pd\n",
        "import numpy as np\n",
        "import yfinance as yf\n",
        "\n",
        "from sklearn.preprocessing import MinMaxScaler\n",
        "from sklearn.model_selection import train_test_split, GridSearchCV\n",
        "from sklearn.feature_selection import SelectKBest, f_classif\n",
        "from sklearn.ensemble import RandomForestClassifier\n",
        "from sklearn.metrics import classification_report, confusion_matrix\n",
        "import matplotlib.pyplot as plt\n",
        "import seaborn as sns"
      ],
      "metadata": {
        "id": "ecFyDeKyx8lO"
      },
      "execution_count": 115,
      "outputs": []
    },
    {
      "cell_type": "code",
      "source": [
        "# -------------------------------\n",
        "# Feature Engineering\n",
        "# -------------------------------\n",
        "df = data.copy()\n",
        "\n",
        "# 1. Lagged Returns (1–5 days)\n",
        "df['Return'] = df['Close'].pct_change()\n",
        "for lag in range(1, 6):\n",
        "    df[f'Return_t-{lag}'] = df['Return'].shift(lag)\n",
        "\n",
        "# 2. Lagged Volume (1–5 days)\n",
        "for lag in range(1, 6):\n",
        "    df[f'Volume_t-{lag}'] = df['Volume'].shift(lag)\n",
        "\n",
        "# 3. Ratios & Normalisations\n",
        "df['Close_SMA20'] = df['Close'] / df['Close'].rolling(20).mean()  # only keep ratio\n",
        "df['High_Low'] = df['High'] / df['Low']\n",
        "df['Close_Open'] = df['Close'] / df['Open']\n",
        "\n",
        "\n",
        "# 4. Volatility & Risk\n",
        "df['RollingStd_20'] = df['Close'].rolling(20).std()\n",
        "df['ATR_14'] = (df['High'] - df['Low']).rolling(14).mean()\n",
        "df['SquaredReturn'] = df['Return']**2\n",
        "\n",
        "# 5. Momentum & ROC\n",
        "df['Momentum_5'] = df['Close'] - df['Close'].shift(5)\n",
        "df['Momentum_10'] = df['Close'] - df['Close'].shift(10)\n",
        "df['ROC_5'] = df['Close'].pct_change(5)\n",
        "df['ROC_10'] = df['Close'].pct_change(10)\n",
        "\n",
        "\n",
        "# RSI (14)\n",
        "delta = df['Close'].diff()\n",
        "\n",
        "gain = delta.where(delta > 0, 0)   # keep positive diffs\n",
        "loss = -delta.where(delta < 0, 0)  # keep negative diffs\n",
        "\n",
        "avg_gain = gain.rolling(14).mean()\n",
        "avg_loss = loss.rolling(14).mean()\n",
        "\n",
        "rs = avg_gain / avg_loss\n",
        "df['RSI_14'] = 100 - (100 / (1 + rs))\n",
        "\n",
        "\n",
        "\n",
        "# MACD (12,26) and Signal (9)\n",
        "ema_12 = df['Close'].ewm(span=12, adjust=False).mean()\n",
        "ema_26 = df['Close'].ewm(span=26, adjust=False).mean()\n",
        "df['MACD'] = ema_12 - ema_26\n",
        "df['MACD_Signal'] = df['MACD'].ewm(span=9, adjust=False).mean()\n",
        "\n",
        "# Bollinger %B (20, 2 std)\n",
        "sma20 = df['Close'].rolling(20).mean()\n",
        "std20 = df['Close'].rolling(20).std()\n",
        "upper = sma20 + 2 * std20\n",
        "lower = sma20 - 2 * std20\n",
        "df['Bollinger_%B'] = (df['Close'] - lower) / (upper - lower)\n",
        "\n",
        "# 7. Volume Indicators\n",
        "df['OBV'] = (np.sign(df['Close'].diff()) * df['Volume']).fillna(0).cumsum()\n",
        "df['MFI'] = ((df['Close'] - df['Low']) - (df['High'] - df['Close'])) / (df['High'] - df['Low'])\n",
        "df['VPT'] = (df['Volume'] * (df['Close'].pct_change())).cumsum()\n",
        "\n",
        "# 8. Z-Scores\n",
        "for win in [5, 10, 20]:\n",
        "    rolling_mean = df['Close'].rolling(win).mean()\n",
        "    rolling_std = df['Close'].rolling(win).std()\n",
        "    df[f'ZScore_{win}'] = (df['Close'] - rolling_mean) / rolling_std\n",
        "\n",
        "# 9. Sharpe-like ratio\n",
        "df['SharpeLike_20'] = df['Return'].rolling(20).mean() / df['Return'].rolling(20).std()\n",
        "\n",
        "# -------------------------------\n",
        "# Finalise Dataset\n",
        "# -------------------------------\n",
        "df.dropna(inplace=True)\n",
        "\n",
        "# Define Features (same for KNN, SVM, RF, XGBoost)\n",
        "features = [\n",
        "    'Return_t-1','Return_t-2','Return_t-3','Return_t-4','Return_t-5',\n",
        "    'Volume_t-1','Volume_t-2','Volume_t-3','Volume_t-4','Volume_t-5',\n",
        "    'Close_SMA20','High_Low','Close_Open',\n",
        "    'RollingStd_20','ATR_14','SquaredReturn',\n",
        "    'Momentum_5','Momentum_10','ROC_5','ROC_10',\n",
        "    'RSI_14','MACD','MACD_Signal','Bollinger_%B',\n",
        "    'OBV','MFI','VPT',\n",
        "    'ZScore_5','ZScore_10','ZScore_20',\n",
        "    'SharpeLike_20'\n",
        "]\n",
        "\n",
        "X = df[features]\n",
        "y = df['Target']\n",
        "\n",
        "print(\"Feature matrix shape:\", X.shape)\n",
        "print(\"Target distribution:\\n\", y.value_counts())\n"
      ],
      "metadata": {
        "id": "UBomNqfW4dRY",
        "outputId": "66ce71d6-612e-4495-8f3b-b461d48c26ce",
        "colab": {
          "base_uri": "https://localhost:8080/"
        }
      },
      "execution_count": 116,
      "outputs": [
        {
          "output_type": "stream",
          "name": "stdout",
          "text": [
            "Feature matrix shape: (2977, 31)\n",
            "Target distribution:\n",
            " Target\n",
            "0    1525\n",
            "1    1452\n",
            "Name: count, dtype: int64\n"
          ]
        }
      ]
    },
    {
      "cell_type": "code",
      "source": [
        "# After all feature engineering\n",
        "df.dropna(inplace=True)\n",
        "\n",
        "# Define features and target from same df\n",
        "X = df[features]\n",
        "y = df['Target']\n",
        "\n",
        "print(\"Shapes after cleaning:\", X.shape, y.shape)\n"
      ],
      "metadata": {
        "colab": {
          "base_uri": "https://localhost:8080/"
        },
        "id": "P3Q5FWCP3gMj",
        "outputId": "9c99f660-176d-4114-9234-0aefb4f1c23a"
      },
      "execution_count": 117,
      "outputs": [
        {
          "output_type": "stream",
          "name": "stdout",
          "text": [
            "Shapes after cleaning: (2977, 31) (2977,)\n"
          ]
        }
      ]
    },
    {
      "cell_type": "code",
      "source": [
        "# Ensure index is datetime\n",
        "df.index = pd.to_datetime(df.index)\n",
        "\n",
        "X_train = X.loc[\"2014-01-01\":\"2023-12-31\"]\n",
        "y_train = y.loc[\"2014-01-01\":\"2023-12-31\"]\n",
        "\n",
        "X_test = X.loc[\"2024-01-01\":\"2024-12-31\"]\n",
        "y_test = y.loc[\"2024-01-01\":\"2024-12-31\"]\n",
        "\n",
        "print(\"Train shapes:\", X_train.shape, y_train.shape)\n",
        "print(\"Test shapes:\", X_test.shape, y_test.shape)\n"
      ],
      "metadata": {
        "colab": {
          "base_uri": "https://localhost:8080/"
        },
        "id": "-I1G7MVq32SQ",
        "outputId": "9860891a-3d9b-4356-b7df-7386ccc691ef"
      },
      "execution_count": 118,
      "outputs": [
        {
          "output_type": "stream",
          "name": "stdout",
          "text": [
            "Train shapes: (2497, 31) (2497,)\n",
            "Test shapes: (249, 31) (249,)\n"
          ]
        }
      ]
    },
    {
      "cell_type": "code",
      "source": [
        "from sklearn.preprocessing import StandardScaler\n",
        "\n",
        "scaler = StandardScaler()\n",
        "X_train_scaled = scaler.fit_transform(X_train)\n",
        "X_test_scaled = scaler.transform(X_test)\n",
        "\n",
        "print(\"Scaled shapes:\", X_train_scaled.shape, X_test_scaled.shape)\n"
      ],
      "metadata": {
        "colab": {
          "base_uri": "https://localhost:8080/"
        },
        "id": "oRHeI0oO34ji",
        "outputId": "abc260a9-d106-4741-cb44-8c2e0ec3263e"
      },
      "execution_count": 119,
      "outputs": [
        {
          "output_type": "stream",
          "name": "stdout",
          "text": [
            "Scaled shapes: (2497, 31) (249, 31)\n"
          ]
        }
      ]
    },
    {
      "cell_type": "code",
      "source": [
        "from sklearn.neighbors import KNeighborsClassifier\n",
        "from sklearn.model_selection import GridSearchCV\n",
        "\n",
        "# Hyperparameter grid\n",
        "param_grid = {\n",
        "    'n_neighbors': list(range(2, 31)),      # try k = 2 … 30\n",
        "    'weights': ['uniform', 'distance'],     # distance weighting can help\n",
        "    'metric': ['euclidean', 'manhattan']    # test different distance metrics\n",
        "}\n",
        "\n",
        "knn = KNeighborsClassifier()\n",
        "grid_search = GridSearchCV(knn, param_grid, cv=3, scoring='accuracy', n_jobs=-1, verbose=1)\n",
        "grid_search.fit(X_train_scaled, y_train)\n",
        "\n",
        "best_knn = grid_search.best_estimator_\n",
        "print(\"Best KNN Parameters:\", grid_search.best_params_)\n"
      ],
      "metadata": {
        "colab": {
          "base_uri": "https://localhost:8080/"
        },
        "id": "I4AVsgVk3PLr",
        "outputId": "f6bbfc5d-6990-48ec-af67-2d6dd911e7a8"
      },
      "execution_count": 120,
      "outputs": [
        {
          "output_type": "stream",
          "name": "stdout",
          "text": [
            "Fitting 3 folds for each of 116 candidates, totalling 348 fits\n",
            "Best KNN Parameters: {'metric': 'manhattan', 'n_neighbors': 15, 'weights': 'distance'}\n"
          ]
        }
      ]
    },
    {
      "cell_type": "code",
      "source": [
        "from sklearn.metrics import classification_report, confusion_matrix\n",
        "import seaborn as sns\n",
        "import matplotlib.pyplot as plt\n",
        "\n",
        "# Predictions\n",
        "y_pred = best_knn.predict(X_test_scaled)\n",
        "\n",
        "# Report\n",
        "print(\"Classification Report (KNN):\")\n",
        "print(classification_report(y_test, y_pred))\n",
        "\n",
        "# Confusion Matrix\n",
        "cm = confusion_matrix(y_test, y_pred)\n",
        "plt.figure(figsize=(6,5))\n",
        "sns.heatmap(cm, annot=True, fmt=\"d\", cmap=\"Blues\", xticklabels=[0,1], yticklabels=[0,1])\n",
        "plt.xlabel(\"Predicted\")\n",
        "plt.ylabel(\"Actual\")\n",
        "plt.title(\"Confusion Matrix (KNN)\")\n",
        "plt.show()\n"
      ],
      "metadata": {
        "colab": {
          "base_uri": "https://localhost:8080/",
          "height": 661
        },
        "id": "idZG52IO4LAE",
        "outputId": "d5a47b2f-46d5-4114-a739-14454d3a5856"
      },
      "execution_count": 121,
      "outputs": [
        {
          "output_type": "stream",
          "name": "stdout",
          "text": [
            "Classification Report (KNN):\n",
            "              precision    recall  f1-score   support\n",
            "\n",
            "           0       0.47      0.65      0.54       115\n",
            "           1       0.55      0.36      0.43       134\n",
            "\n",
            "    accuracy                           0.49       249\n",
            "   macro avg       0.51      0.51      0.49       249\n",
            "weighted avg       0.51      0.49      0.48       249\n",
            "\n"
          ]
        },
        {
          "output_type": "display_data",
          "data": {
            "text/plain": [
              "<Figure size 600x500 with 2 Axes>"
            ],
            "image/png": "[encoded data removed]"
          },
          "metadata": {}
        }
      ]
    },
    {
      "cell_type": "code",
      "source": [
        "from sklearn.model_selection import learning_curve\n",
        "import matplotlib.pyplot as plt\n",
        "import numpy as np\n",
        "\n",
        "# Compute learning curve\n",
        "train_sizes, train_scores, test_scores = learning_curve(\n",
        "    best_knn,\n",
        "    X_train_scaled,\n",
        "    y_train,\n",
        "    cv=3,\n",
        "    scoring='accuracy',\n",
        "    n_jobs=-1,\n",
        "    train_sizes=np.linspace(0.1, 1.0, 10),  # 10% to 100% of training data\n",
        "    shuffle=False   # keep time order since it's time-series\n",
        ")\n",
        "\n",
        "# Mean & std\n",
        "train_mean = np.mean(train_scores, axis=1)\n",
        "train_std = np.std(train_scores, axis=1)\n",
        "test_mean = np.mean(test_scores, axis=1)\n",
        "test_std = np.std(test_scores, axis=1)\n",
        "\n",
        "# Plot\n",
        "plt.figure(figsize=(8,6))\n",
        "plt.plot(train_sizes, train_mean, label=\"Training Accuracy\", color=\"blue\")\n",
        "plt.fill_between(train_sizes, train_mean-train_std, train_mean+train_std, alpha=0.2, color=\"blue\")\n",
        "\n",
        "plt.plot(train_sizes, test_mean, label=\"Validation Accuracy\", color=\"orange\")\n",
        "plt.fill_between(train_sizes, test_mean-test_std, test_mean+test_std, alpha=0.2, color=\"orange\")\n",
        "\n",
        "plt.xlabel(\"Training Set Size\")\n",
        "plt.ylabel(\"Accuracy\")\n",
        "plt.title(\"Learning Curve (KNN Classifier)\")\n",
        "plt.legend(loc=\"best\")\n",
        "plt.grid(True)\n",
        "plt.show()\n"
      ],
      "metadata": {
        "colab": {
          "base_uri": "https://localhost:8080/",
          "height": 564
        },
        "id": "upryymJG4MwS",
        "outputId": "e48eca5a-e657-4d3c-c5c5-cf8ff25ef575"
      },
      "execution_count": 122,
      "outputs": [
        {
          "output_type": "display_data",
          "data": {
            "text/plain": [
              "<Figure size 800x600 with 1 Axes>"
            ],
            "image/png": "[encoded data removed]"
          },
          "metadata": {}
        }
      ]
    }
  ]
}