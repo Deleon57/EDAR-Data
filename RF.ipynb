{
  "nbformat": 4,
  "nbformat_minor": 0,
  "metadata": {
    "colab": {
      "provenance": [],
      "authorship_tag": "ABX9TyPs4PNDUuAhh3O39MwNrrKS",
      "include_colab_link": true
    },
    "kernelspec": {
      "name": "python3",
      "display_name": "Python 3"
    },
    "language_info": {
      "name": "python"
    }
  },
  "cells": [
    {
      "cell_type": "markdown",
      "metadata": {
        "id": "view-in-github",
        "colab_type": "text"
      },
      "source": [
        "<a href=\"https://colab.research.google.com/github/Deleon57/EDAR-Data/blob/main/RF.ipynb\" target=\"_parent\"><img src=\"https://colab.research.google.com/assets/colab-badge.svg\" alt=\"Open In Colab\"/></a>"
      ]
    },
    {
      "cell_type": "code",
      "source": [
        "import datetime as dt\n",
        "import pandas as pd\n",
        "from pandas_datareader import data as pdr\n",
        "from google.colab import files"
      ],
      "metadata": {
        "id": "rtOp746frmAZ"
      },
      "execution_count": null,
      "outputs": []
    },
    {
      "cell_type": "code",
      "source": [
        "stocklist = ['GFI']\n",
        "stocks = [i + '.JO' for i in stocklist]\n",
        "start = \"2013-03-01\"\n",
        "end = \"2024-02-28\"\n",
        "\n",
        "df = yf.download(['GFI.JO'], start=start, end=end)\n",
        "df.head()"
      ],
      "metadata": {
        "id": "_gDLi3ZrrrTd"
      },
      "execution_count": null,
      "outputs": []
    }
  ]
}